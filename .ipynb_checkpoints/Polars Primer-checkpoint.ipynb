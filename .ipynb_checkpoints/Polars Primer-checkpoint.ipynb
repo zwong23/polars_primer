{
 "cells": [
  {
   "cell_type": "markdown",
   "id": "b55665c1-2f39-40d5-8e73-4586098db129",
   "metadata": {},
   "source": [
    "# Getting Started with Polars: A Hands-On Introduction\n",
    "\n",
    "Author: Zach Wong"
   ]
  },
  {
   "cell_type": "markdown",
   "id": "ce7b5bca-7611-4419-9457-97099d818eb4",
   "metadata": {},
   "source": [
    "## Purpose "
   ]
  },
  {
   "cell_type": "markdown",
   "id": "e275c1a0-b618-47e5-a068-e44c355bae77",
   "metadata": {},
   "source": [
    "This notebook is designed to give a high-level, practical introduction to using Polars - a **fast, efficient DataFrame library** built for modern data workflows. \n",
    "\n",
    "This can be helpful if you're coming from tools like Stata or Pandas and need to work with **high-volume datasets** where **performance, memory efficiency, and speed matter**.\n",
    "\n",
    "Feel free to make a copy, modify, and experiment with the code as you go.\n",
    "\n",
    "*This notebook was last updated 4/30/2025 using Polars v1.28.1. Behavior may vary slightly with future versions.*"
   ]
  },
  {
   "cell_type": "markdown",
   "id": "4fb04eec-9065-47de-ac05-c7e093a31935",
   "metadata": {},
   "source": [
    "## ⚠️ **Note**"
   ]
  },
  {
   "cell_type": "markdown",
   "id": "809468cf-5ccc-4e21-94d6-f917474ddfa5",
   "metadata": {},
   "source": [
    "This notebook is not intended to replace the official Polars documentation. Rather, consider it a quick-start guide designed to get you up and running quickly so you can experiment with Polars in real time as you dive deeper into the official documentation.\n",
    "\n",
    "While examples of Polars syntax are included, **Polars is always subject to change**. The updated Polars user guide and syntax guide are to be found on Polars’ website and links to specific concepts are referenced throughout this notebook:\n",
    "\n",
    "**User guide**: https://docs.pola.rs/\n",
    "\n",
    "**(Python) API reference**: https://docs.pola.rs/api/python/stable/reference/index.html\n",
    "\n",
    "To the extent that there are differences in syntax between what is written in this notebook and what is written in the official documentation, always defer to the official documentation.\n"
   ]
  },
  {
   "cell_type": "markdown",
   "id": "efc90c82-7ea1-4696-83b5-6a2e48014394",
   "metadata": {},
   "source": [
    "## 0. Setup"
   ]
  },
  {
   "cell_type": "code",
   "execution_count": 6,
   "id": "ead24136-6705-41cc-9e8a-0ff6129314df",
   "metadata": {},
   "outputs": [
    {
     "name": "stdout",
     "output_type": "stream",
     "text": [
      "Requirement already satisfied: polars in c:\\users\\zwong\\appdata\\local\\anaconda3\\envs\\training_polars\\lib\\site-packages (1.28.1)\n",
      "Requirement already satisfied: pyarrow in c:\\users\\zwong\\appdata\\local\\anaconda3\\envs\\training_polars\\lib\\site-packages (20.0.0)\n",
      "Polars version: 1.28.1\n",
      "Using 16 threads\n"
     ]
    }
   ],
   "source": [
    "# Install Polars and PyArrow — pip is Python’s default package manager.\n",
    "!pip install polars pyarrow\n",
    "\n",
    "# Set environment variable to limit Polars to 16 threads\n",
    "import os\n",
    "os.environ['POLARS_MAX_THREADS'] = '16'  # Prevent CPU overload, especially in shared environments\n",
    "\n",
    "# Import Polars and confirm setup\n",
    "import polars as pl\n",
    "\n",
    "# Check Polars version and thread setting\n",
    "print(f\"Polars version: {pl.__version__}\")\n",
    "print(f\"Using {os.environ.get('POLARS_MAX_THREADS')} threads\")"
   ]
  },
  {
   "cell_type": "markdown",
   "id": "9eae8489-1076-4a96-a230-3f445b976918",
   "metadata": {},
   "source": [
    "## 1. Polars vs STATA Data Processing Benefits (High-Level)"
   ]
  },
  {
   "cell_type": "markdown",
   "id": "d9a705a6-8604-41a8-8fe3-fa3b634277dd",
   "metadata": {},
   "source": [
    "| Feature                    | STATA                                                    | Polars                                                              |\n",
    "|----------------------------|----------------------------------------------------------|---------------------------------------------------------------------|\n",
    "| Memory Use                 | Higher: entire dataset loaded into RAM                  | Lower: columnar format with lazy execution and streaming                                                |\n",
    "| Performance                | Slower: Single-threaded                                  | Higher: Multithreaded, built in Rust                                     |\n",
    "| Big Data Handling              | Limited: can crash or slow down on large datasets   | Robust: supports streaming for out-of-core processing                         |\n",
    "| Extensibility Ecosystem    | Limited: scripting in Stata language only\t             | \tFlexible: full Python + access to the broader Python ecosystem"
   ]
  },
  {
   "cell_type": "markdown",
   "id": "0f68d6ed-3a3a-49e1-ad5f-dcb60717abe6",
   "metadata": {},
   "source": [
    "Read more about Polars Features and Benefits here: https://docs.pola.rs/"
   ]
  },
  {
   "cell_type": "markdown",
   "id": "566e393b-ff5b-4f3d-9860-0e8821517a55",
   "metadata": {},
   "source": [
    "## 2. Polars Eager DataFrames vs LazyFrames"
   ]
  },
  {
   "cell_type": "markdown",
   "id": "19a8fc68-306b-4fa9-8fed-7df082c51a5e",
   "metadata": {},
   "source": [
    "Polars operates with two primary DataFrame types: DataFrame for eager execution and LazyFrame for lazy execution.\n",
    "\n",
    "* **DataFrame (Eager)**: Executes operations immediately, similar to pandas or Stata.\n",
    "\n",
    "* **LazyFrame (Lazy)**: Builds a query plan and defers execution until explicitly triggered, allowing for more efficient, optimized data processing—especially useful with large datasets."
   ]
  },
  {
   "cell_type": "markdown",
   "id": "2b14e5ac-db75-47de-9932-8c48ade41ae1",
   "metadata": {},
   "source": [
    "**As a general rule**: use LazyFrame when working with large datasets or in memory-constrained environments (such as shared VMs). Use DataFrame for smaller datasets or when working on a local machine with dedicated resources.\n",
    "\n",
    "This approach ensures you get the best performance and resource efficiency based on your computing environment."
   ]
  },
  {
   "cell_type": "markdown",
   "id": "3158daaf-5f00-4c79-abf9-d862624bfa38",
   "metadata": {},
   "source": [
    "| Aspect                     | DataFrame (Eager)                                         | Lazyframe (Lazy)                                                                     |\n",
    "|----------------------------|-----------------------------------------------------------|--------------------------------------------------------------------------------------|\n",
    "| Ideal Use Case             | Quick exploration, small datasets, ad hoc workflows           | Pipelines, large-scale data, low-memory/shared environments                                 |\n",
    "| Execution                  | Immediate: each operation runs line by line               | Deferred: builds a plan, runs only on .collect()                                         |\n",
    "| Performance                | Faster for small data                                     | More efficient for large data and multi-step pipelines                                  |\n",
    "| Memory Usage               | Higher: all data + intermediate steps held in memory | Lower: optimized plan loads only needed rows/columns at execution |\n",
    "| Parallelism                | Basic or single-threaded                                  | Multithreaded by default, with optional streaming                                    |\n",
    "| Debuggability              | Easier: inspect output step-by-step                    | Use explain() to visualize and debug the lazy execution plan        \n",
    "| Streaming Mode Compatible | No                                                        | Yes: enables out-of-core, batch processing                                                                                  ||\n",
    "| Read Operations            | read_csv(), read_parquet(): reads full file into memory  | scan_csv(), scan_parquet(): builds a lazy scan plan (no immediate read)                 |\n",
    "| Write Operations           | write_csv(), write_parquet(): executes immediately           | sink_csv(), sink_parquet(): deffered, executes with .collect()                |\n"
   ]
  },
  {
   "cell_type": "markdown",
   "id": "557a64bd-7561-46e7-aa9e-466dd4379f64",
   "metadata": {},
   "source": [
    "### 2a. Basic Example using Eager Dataframes"
   ]
  },
  {
   "cell_type": "markdown",
   "id": "8ebadc75-9be3-4938-9d3f-cfe70afcdbbd",
   "metadata": {},
   "source": [
    "Like Stata, operations on a Polars DataFrame (eager mode) execute immediately, line by line.\n",
    "This means that:\n",
    "\n",
    "* Each transformation is applied **as soon as it's called**.\n",
    "\n",
    "* The full DataFrame and any intermediate results are **held in memory**.\n",
    "\n",
    "* This approach is **intuitive but can be memory-intensive** for large datasets."
   ]
  },
  {
   "cell_type": "code",
   "execution_count": 7,
   "id": "b136baa3-8685-4866-9bba-47dc274fcd9b",
   "metadata": {},
   "outputs": [
    {
     "name": "stdout",
     "output_type": "stream",
     "text": [
      "shape: (5, 3)\n",
      "┌────────────┬────────────────┬────────────────────┐\n",
      "│ VIN (1-10) ┆ Electric Range ┆ log_electric_range │\n",
      "│ ---        ┆ ---            ┆ ---                │\n",
      "│ str        ┆ i64            ┆ f64                │\n",
      "╞════════════╪════════════════╪════════════════════╡\n",
      "│ 1C4JJXP68P ┆ 21             ┆ 3.044522           │\n",
      "│ 1N4AZ0CP8E ┆ 84             ┆ 4.430817           │\n",
      "│ 7SAYGDEE4S ┆ 0              ┆ -inf               │\n",
      "│ KNDJX3AE9G ┆ 93             ┆ 4.532599           │\n",
      "│ JTDKARFP9H ┆ 25             ┆ 3.218876           │\n",
      "└────────────┴────────────────┴────────────────────┘\n",
      "Exported DataFrame to: filtered_ev_data_from_eager.csv\n"
     ]
    }
   ],
   "source": [
    "# Load the CSV into a Polars DataFrame (eager execution)\n",
    "df = pl.read_csv(\"Electric_Vehicle_Population_Data.csv\")\n",
    "\n",
    "# Filter rows where Electric Range < 100 and select relevant columns\n",
    "df = df.filter(pl.col(\"Electric Range\") < 100).select([\n",
    "    pl.col(\"VIN (1-10)\"),\n",
    "    pl.col(\"Electric Range\")\n",
    "])\n",
    "\n",
    "# Add a new column: natural log of Electric Range\n",
    "df = df.with_columns(\n",
    "    (pl.col(\"Electric Range\").log()).alias(\"log_electric_range\")\n",
    ")\n",
    "\n",
    "# Print the first 5 rows of the result\n",
    "print(df.head())\n",
    "\n",
    "# Export the filtered DataFrame to a CSV file\n",
    "export_fp = \"filtered_ev_data_from_eager.csv\"\n",
    "df.write_csv(export_fp)\n",
    "print(f\"Exported DataFrame to: {export_fp}\")"
   ]
  },
  {
   "cell_type": "markdown",
   "id": "b2926869-4f3d-44d1-a162-749dbbb6cee3",
   "metadata": {},
   "source": [
    "Read more about Polars' DataFrames here: https://docs.pola.rs/user-guide/concepts/data-types-and-structures/#dataframe"
   ]
  },
  {
   "cell_type": "markdown",
   "id": "b415d30d-62d9-4b3f-9f93-51a39b5b0577",
   "metadata": {},
   "source": [
    "### 2b. Basic Example using LazyFrames"
   ]
  },
  {
   "cell_type": "markdown",
   "id": "dc7fc27c-f468-497c-b17d-202f050879bc",
   "metadata": {},
   "source": [
    "Unlike Stata, operations on a Polars LazyFrame do not execute immediately.\n",
    "Instead:\n",
    "\n",
    "* Each line adds a step to a **deferred execution plan**.\n",
    "\n",
    "* The actual computation only runs when **.collect() is called**.\n",
    "\n",
    "* This allows Polars to optimize the entire query and **significantly reduce memory usage**, since data isn't fully loaded or processed until necessary."
   ]
  },
  {
   "cell_type": "code",
   "execution_count": 8,
   "id": "26704ab0-acd1-412c-a84e-544bbf7bc4fd",
   "metadata": {},
   "outputs": [
    {
     "name": "stdout",
     "output_type": "stream",
     "text": [
      "naive plan: (run LazyFrame.explain(optimized=True) to see the optimized plan)\n",
      "\n",
      "SLICE[offset: 0, len: 5]\n",
      "   WITH_COLUMNS:\n",
      "   [col(\"Electric Range\").log().alias(\"log_electric_range\")] \n",
      "    SELECT [col(\"VIN (1-10)\"), col(\"Electric Range\")]\n",
      "    FROM\n",
      "      FILTER [(col(\"Electric Range\")) < (100)]\n",
      "      FROM\n",
      "        Csv SCAN [Electric_Vehicle_Population_Data.csv]\n",
      "        PROJECT */17 COLUMNS\n"
     ]
    }
   ],
   "source": [
    "# Create a LazyFrame by scanning the CSV (no data is loaded yet)\n",
    "lf = pl.scan_csv(\"Electric_Vehicle_Population_Data.csv\")  # Note: \"scan_csv\", not \"read_csv\"\n",
    "\n",
    "# Build the query: filter rows where Electric Range < 100 and select relevant columns\n",
    "lf = lf.filter(pl.col(\"Electric Range\") < 100).select([\n",
    "    pl.col(\"VIN (1-10)\"),\n",
    "    pl.col(\"Electric Range\")\n",
    "])\n",
    "\n",
    "# Add a new column: natural log of Electric Range\n",
    "lf = lf.with_columns(\n",
    "    (pl.col(\"Electric Range\").log()).alias(\"log_electric_range\")\n",
    ")\n",
    "\n",
    "#If you call lf.head() on a LazyFrame, it doesn't immediately return the data; instead, it prints the query plan as seen here. \n",
    "print(lf.head())"
   ]
  },
  {
   "cell_type": "markdown",
   "id": "439255f0-2dba-428c-ad0d-1239c487171e",
   "metadata": {},
   "source": [
    "Until this point, \"lf\" is just a deferred execution plan - no data has been read or processed yet.\n",
    "When .collect() is called, Polars analyzes, optimizes, and then executes the entire plan, returning a materialized DataFrame held in memory."
   ]
  },
  {
   "cell_type": "code",
   "execution_count": 9,
   "id": "8f1a728b-eef2-476f-8287-ca0c13c7bf04",
   "metadata": {},
   "outputs": [
    {
     "name": "stdout",
     "output_type": "stream",
     "text": [
      "shape: (5, 3)\n",
      "┌────────────┬────────────────┬────────────────────┐\n",
      "│ VIN (1-10) ┆ Electric Range ┆ log_electric_range │\n",
      "│ ---        ┆ ---            ┆ ---                │\n",
      "│ str        ┆ i64            ┆ f64                │\n",
      "╞════════════╪════════════════╪════════════════════╡\n",
      "│ 1C4JJXP68P ┆ 21             ┆ 3.044522           │\n",
      "│ 1N4AZ0CP8E ┆ 84             ┆ 4.430817           │\n",
      "│ 7SAYGDEE4S ┆ 0              ┆ -inf               │\n",
      "│ KNDJX3AE9G ┆ 93             ┆ 4.532599           │\n",
      "│ JTDKARFP9H ┆ 25             ┆ 3.218876           │\n",
      "└────────────┴────────────────┴────────────────────┘\n"
     ]
    }
   ],
   "source": [
    "# Materialize the LazyFrame into an eager DataFrame\n",
    "# This triggers execution of the full query plan and loads the result into memory\n",
    "df = lf.collect()\n",
    "\n",
    "# Display the first 5 rows\n",
    "print(df.head())"
   ]
  },
  {
   "cell_type": "markdown",
   "id": "880a1965-6bb2-4e46-932d-45dcfa3f194c",
   "metadata": {},
   "source": [
    "Read more about Polars' Lazyframes here: https://docs.pola.rs/user-guide/concepts/lazy-api/"
   ]
  },
  {
   "cell_type": "markdown",
   "id": "e1e9c96b-4741-4b2c-8d80-051c145b7ea1",
   "metadata": {},
   "source": [
    "## 3. Intro to Streaming Mode"
   ]
  },
  {
   "cell_type": "markdown",
   "id": "f3318ae4-9d66-4a67-ba80-6d69b44fdc2a",
   "metadata": {},
   "source": [
    "One of Polars’ key advantages over Stata is its **LazyFrame streaming capability**, which is especially useful when working with datasets too large to fit entirely in RAM - common in shared VM environments.\n",
    "\n",
    "Unlike Stata, which requires full materialization of the dataset in memory, Polars can **stream data in batches**, processing it in **parallel across threads**. This means:\n",
    "\n",
    "* Only a **portion of the data** is loaded into memory at any given time.\n",
    "\n",
    "* Memory usage stays **low and predictable**.\n",
    "\n",
    "* **Resources are preserved** for other users and processes on shared infrastructure.\n",
    "\n",
    "This makes Polars highly suitable for large-scale data exports, transformations, or aggregations without overwhelming system memory."
   ]
  },
  {
   "cell_type": "code",
   "execution_count": 10,
   "id": "86d28604-250d-49bb-a4db-62126da0342f",
   "metadata": {},
   "outputs": [],
   "source": [
    "# Create a LazyFrame (no data is read yet)\n",
    "lf = pl.scan_csv(\"Electric_Vehicle_Population_Data.csv\")\n",
    "\n",
    "# Data operations here...\n",
    "# (You can add filters, selects, transformations, etc. before collecting)\n",
    "\n",
    "# Execute the query plan using the streaming engine (for large datasets)\n",
    "# This processes data in batches instead of loading everything into memory at once\n",
    "df = lf.collect(engine=\"streaming\")\n",
    "\n",
    "# Export the LazyFrame directly to a CSV using streaming (batch-by-batch write)\n",
    "# The batch_size parameter controls how many rows each thread processes at a time\n",
    "lf.sink_csv(\"filtered_ev_data_from_lazy_streaming.csv\", batch_size=10)"
   ]
  },
  {
   "cell_type": "markdown",
   "id": "759c9e37-7bbf-44cf-84bf-2afaf254451f",
   "metadata": {},
   "source": [
    "**Note**: Streaming mode is best used with operations that support it, like filters and column selection. More complex operations (e.g. joins or sorts) may fall back to non-streaming execution.\n",
    "\n",
    "Read more about streaming capabilities in the Polars User Guide here: https://docs.pola.rs/user-guide/concepts/_streaming/"
   ]
  },
  {
   "cell_type": "markdown",
   "id": "02425d0f-1e11-49c1-a3d6-f39f747fa190",
   "metadata": {},
   "source": [
    "## 4. Why Parquets > CSVs?"
   ]
  },
  {
   "cell_type": "markdown",
   "id": "a1e04b1b-9710-4a88-8371-ce9bbeef983c",
   "metadata": {},
   "source": [
    "While the examples in this notebook use CSV files for simplicity, **Parquet is the preferred file** format when working with Polars due to its performance and efficiency advantages."
   ]
  },
  {
   "cell_type": "markdown",
   "id": "2539651c-dca7-41e4-9f81-d1a4b9471173",
   "metadata": {},
   "source": [
    "**In summary, Parquet files are well-optimized for Polars’ lazy engine, offering advantages in speed, memory efficiency, and scalability. For large data pipelines, Polars strongly recommends using Parquet over formats like CSV or Excel.**"
   ]
  },
  {
   "cell_type": "markdown",
   "id": "f6f4ba59-5b14-4261-a964-7f2909e053d3",
   "metadata": {},
   "source": [
    "| Feature               | CSV                                | Parquet                                      |\n",
    "|-----------------------|------------------------------------|----------------------------------------------|\n",
    "| File size             | Large: text-based with no built-in compression  | Small: compressed binary format |\n",
    "| Read speed            | Slower: parsed line-by-line          | Faster: columnar format allows efficient parallel reads |\n",
    "| Write speed           | Moderate: Text formatting adds overhead | Faster: Writes binary blocks  with less overhead |\n",
    "| Columnar Access       | Inefficient - must read full rows | Efficient - reads only necessary columns        |\n",
    "| Polars-native support | Slower: line-based parsing         | Optimized: works seamlessly with Polars' lazy and streaming engine |"
   ]
  },
  {
   "cell_type": "markdown",
   "id": "f08f84c2-f6a2-4c88-b70b-2aafdb23eb58",
   "metadata": {},
   "source": [
    "Read more about Polars' compatability with Parquet files (and other formats) here: https://docs.pola.rs/user-guide/io/parquet/"
   ]
  }
 ],
 "metadata": {
  "kernelspec": {
   "display_name": "Python 3 (ipykernel)",
   "language": "python",
   "name": "python3"
  },
  "language_info": {
   "codemirror_mode": {
    "name": "ipython",
    "version": 3
   },
   "file_extension": ".py",
   "mimetype": "text/x-python",
   "name": "python",
   "nbconvert_exporter": "python",
   "pygments_lexer": "ipython3",
   "version": "3.13.2"
  }
 },
 "nbformat": 4,
 "nbformat_minor": 5
}
